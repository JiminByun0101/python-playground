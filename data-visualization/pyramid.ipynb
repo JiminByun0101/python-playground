{
 "cells": [
  {
   "cell_type": "code",
   "execution_count": 1,
   "id": "33db5228-bb86-4e75-9b68-1e168a9ed85f",
   "metadata": {},
   "outputs": [],
   "source": [
    "import matplotlib.pyplot as plt\n",
    "import numpy as np\n",
    "import pandas as pd"
   ]
  },
  {
   "cell_type": "code",
   "execution_count": 4,
   "id": "e8ddb254-ab51-46b8-8d25-b6b9d68bcbcd",
   "metadata": {},
   "outputs": [],
   "source": [
    "import watermark\n",
    "%load_ext watermark"
   ]
  },
  {
   "cell_type": "code",
   "execution_count": 5,
   "id": "790e0934-04f9-4031-8045-7d2857ae5442",
   "metadata": {},
   "outputs": [
    {
     "name": "stdout",
     "output_type": "stream",
     "text": [
      "Last updated: 2023-04-22T18:18:17.171572-07:00\n",
      "\n",
      "Python implementation: CPython\n",
      "Python version       : 3.9.16\n",
      "IPython version      : 8.10.0\n",
      "\n",
      "Compiler    : GCC 11.2.0\n",
      "OS          : Linux\n",
      "Release     : 5.15.0-69-generic\n",
      "Machine     : x86_64\n",
      "Processor   : x86_64\n",
      "CPU cores   : 8\n",
      "Architecture: 64bit\n",
      "\n"
     ]
    }
   ],
   "source": [
    "%watermark"
   ]
  },
  {
   "cell_type": "code",
   "execution_count": 10,
   "id": "bafd6587-3e53-4ff0-b531-d1150ad3b565",
   "metadata": {},
   "outputs": [
    {
     "name": "stdout",
     "output_type": "stream",
     "text": [
      "Python implementation: CPython\n",
      "Python version       : 3.9.16\n",
      "IPython version      : 8.10.0\n",
      "\n",
      "Compiler    : GCC 11.2.0\n",
      "OS          : Linux\n",
      "Release     : 5.15.0-69-generic\n",
      "Machine     : x86_64\n",
      "Processor   : x86_64\n",
      "CPU cores   : 8\n",
      "Architecture: 64bit\n",
      "\n",
      "matplotlib: 3.7.0\n",
      "numpy     : 1.22.3\n",
      "watermark : 2.3.1\n",
      "pandas    : 1.5.3\n",
      "\n"
     ]
    }
   ],
   "source": [
    "%watermark -n -v -m -iv"
   ]
  },
  {
   "cell_type": "code",
   "execution_count": 11,
   "id": "c9bf5c88-0e6a-4fdd-a06f-4924ac38b99a",
   "metadata": {},
   "outputs": [
    {
     "name": "stdout",
     "output_type": "stream",
     "text": [
      "matplotlib: 3.7.0\n",
      "numpy     : 1.22.3\n",
      "watermark : 2.3.1\n",
      "pandas    : 1.5.3\n",
      "\n"
     ]
    }
   ],
   "source": [
    "%watermark -iv"
   ]
  },
  {
   "cell_type": "code",
   "execution_count": 12,
   "id": "d83b8aa2-25b4-45ff-8cc0-539c1963ea7d",
   "metadata": {},
   "outputs": [
    {
     "data": {
      "text/plain": [
       "\u001b[0;31mDocstring:\u001b[0m\n",
       "::\n",
       "\n",
       "  %watermark [-a AUTHOR] [-gu GITHUB_USERNAME] [-e EMAIL] [-ws WEBSITE]\n",
       "                 [-d] [-n] [-t] [-i] [-z] [-u] [-c CUSTOM_TIME] [-v]\n",
       "                 [-p PACKAGES] [-co] [-h] [-m] [-g] [-r] [-b] [-w] [-iv]\n",
       "\n",
       "IPython magic function to print date/time stamps\n",
       "and various system information.\n",
       "\n",
       "optional arguments:\n",
       "  -a AUTHOR, --author AUTHOR\n",
       "                        prints author name\n",
       "  -gu GITHUB_USERNAME, --github_username GITHUB_USERNAME\n",
       "                        prints author github username\n",
       "  -e EMAIL, --email EMAIL\n",
       "                        prints author email\n",
       "  -ws WEBSITE, --website WEBSITE\n",
       "                        prints author or project website\n",
       "  -d, --date            prints current date as YYYY-mm-dd\n",
       "  -n, --datename        prints date with abbrv. day and month names\n",
       "  -t, --time            prints current time as HH-MM-SS\n",
       "  -i, --iso8601         prints the combined date and time including the time\n",
       "                        zone in the ISO 8601 standard with UTC offset\n",
       "  -z, --timezone        appends the local time zone\n",
       "  -u, --updated         appends a string \"Last updated: \"\n",
       "  -c CUSTOM_TIME, --custom_time CUSTOM_TIME\n",
       "                        prints a valid strftime() string\n",
       "  -v, --python          prints Python and IPython version\n",
       "  -p PACKAGES, --packages PACKAGES\n",
       "                        prints versions of specified Python modules and\n",
       "                        packages\n",
       "  -co, --conda          prints name of current conda environment\n",
       "  -h, --hostname        prints the host name\n",
       "  -m, --machine         prints system and machine info\n",
       "  -g, --githash         prints current Git commit hash\n",
       "  -r, --gitrepo         prints current Git remote address\n",
       "  -b, --gitbranch       prints current Git branch\n",
       "  -w, --watermark       prints the current version of watermark\n",
       "  -iv, --iversions      prints the name/version of all imported modules\n",
       "\u001b[0;31mFile:\u001b[0m      ~/anaconda3/envs/data-science/lib/python3.9/site-packages/watermark/magic.py"
      ]
     },
     "metadata": {},
     "output_type": "display_data"
    }
   ],
   "source": [
    "%watermark?"
   ]
  },
  {
   "cell_type": "code",
   "execution_count": 19,
   "id": "a0bfae6b-43f3-46be-ab7a-a5fbd03e653f",
   "metadata": {},
   "outputs": [],
   "source": [
    "pyramid = pd.read_csv('~/src/python-playground/data-visualization/pyramid.csv')"
   ]
  },
  {
   "cell_type": "code",
   "execution_count": 22,
   "id": "560d5b4c-a4b3-4092-875d-fcb8aca3d426",
   "metadata": {},
   "outputs": [
    {
     "data": {
      "text/html": [
       "<div>\n",
       "<style scoped>\n",
       "    .dataframe tbody tr th:only-of-type {\n",
       "        vertical-align: middle;\n",
       "    }\n",
       "\n",
       "    .dataframe tbody tr th {\n",
       "        vertical-align: top;\n",
       "    }\n",
       "\n",
       "    .dataframe thead th {\n",
       "        text-align: right;\n",
       "    }\n",
       "</style>\n",
       "<table border=\"1\" class=\"dataframe\">\n",
       "  <thead>\n",
       "    <tr style=\"text-align: right;\">\n",
       "      <th></th>\n",
       "      <th>Age</th>\n",
       "      <th>Female</th>\n",
       "      <th>Male</th>\n",
       "      <th>Male_Inverse</th>\n",
       "      <th>OBJECTID</th>\n",
       "    </tr>\n",
       "  </thead>\n",
       "  <tbody>\n",
       "    <tr>\n",
       "      <th>0</th>\n",
       "      <td>0 - 10</td>\n",
       "      <td>113083</td>\n",
       "      <td>114153</td>\n",
       "      <td>-114153</td>\n",
       "      <td>0</td>\n",
       "    </tr>\n",
       "    <tr>\n",
       "      <th>1</th>\n",
       "      <td>10 - 20</td>\n",
       "      <td>88861</td>\n",
       "      <td>80755</td>\n",
       "      <td>-80755</td>\n",
       "      <td>1</td>\n",
       "    </tr>\n",
       "    <tr>\n",
       "      <th>2</th>\n",
       "      <td>20 - 30</td>\n",
       "      <td>130033</td>\n",
       "      <td>120694</td>\n",
       "      <td>-120694</td>\n",
       "      <td>2</td>\n",
       "    </tr>\n",
       "    <tr>\n",
       "      <th>3</th>\n",
       "      <td>30 - 40</td>\n",
       "      <td>66020</td>\n",
       "      <td>92146</td>\n",
       "      <td>-92146</td>\n",
       "      <td>3</td>\n",
       "    </tr>\n",
       "    <tr>\n",
       "      <th>4</th>\n",
       "      <td>40 - 50</td>\n",
       "      <td>28289</td>\n",
       "      <td>45107</td>\n",
       "      <td>-45107</td>\n",
       "      <td>4</td>\n",
       "    </tr>\n",
       "  </tbody>\n",
       "</table>\n",
       "</div>"
      ],
      "text/plain": [
       "       Age  Female    Male  Male_Inverse  OBJECTID\n",
       "0   0 - 10  113083  114153       -114153         0\n",
       "1  10 - 20   88861   80755        -80755         1\n",
       "2  20 - 30  130033  120694       -120694         2\n",
       "3  30 - 40   66020   92146        -92146         3\n",
       "4  40 - 50   28289   45107        -45107         4"
      ]
     },
     "execution_count": 22,
     "metadata": {},
     "output_type": "execute_result"
    }
   ],
   "source": [
    "pyramid.head()"
   ]
  },
  {
   "cell_type": "code",
   "execution_count": 36,
   "id": "5cd0caba-15a2-47cf-a6f8-2ee00807f169",
   "metadata": {},
   "outputs": [
    {
     "data": {
      "image/png": "[encoded data removed]",
      "text/plain": [
       "<Figure size 1400x1000 with 2 Axes>"
      ]
     },
     "metadata": {},
     "output_type": "display_data"
    }
   ],
   "source": [
    "fig, axs = plt.subplots(1, 2, sharey=False, sharex=False)\n",
    "fig.set_size_inches(14, 10)\n",
    "\n",
    "axs[0].barh(range(9), pyramid['Female'])\n",
    "axs[1].barh(range(9), pyramid['Male'])\n",
    "\n",
    "axs[0].invert_xaxis()\n",
    "axs[0].set_yticks([])\n",
    "axs[0].set_yticklabels('')\n",
    "\n",
    "axs[1].set_yticks(range(9))\n",
    "axs[1].set_yticklabels(pyramid['Age'])\n",
    "\n",
    "axs[0].set_xlabel('Female')\n",
    "axs[1].set_xlabel('Male')\n",
    "\n",
    "fig.subplots_adjust(wspace=0.21)      "
   ]
  },
  {
   "cell_type": "code",
   "execution_count": null,
   "id": "326c83ea-4e5a-4915-a3c0-dd61472b2165",
   "metadata": {},
   "outputs": [],
   "source": []
  }
 ],
 "metadata": {
  "kernelspec": {
   "display_name": "Python 3 (ipykernel)",
   "language": "python",
   "name": "python3"
  },
  "language_info": {
   "codemirror_mode": {
    "name": "ipython",
    "version": 3
   },
   "file_extension": ".py",
   "mimetype": "text/x-python",
   "name": "python",
   "nbconvert_exporter": "python",
   "pygments_lexer": "ipython3",
   "version": "3.9.13"
  }
 },
 "nbformat": 4,
 "nbformat_minor": 5
}
